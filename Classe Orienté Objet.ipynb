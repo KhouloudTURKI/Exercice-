{
 "cells": [
  {
   "cell_type": "code",
   "execution_count": 12,
   "id": "1c8d802a",
   "metadata": {},
   "outputs": [
    {
     "name": "stdout",
     "output_type": "stream",
     "text": [
      "(1, 2, 3)\n"
     ]
    }
   ],
   "source": [
    "class Point3D (object):\n",
    "    def __init__(self, x, y, z):\n",
    "        self.x = x\n",
    "        self.y = y\n",
    "        self.z = z\n",
    "    def __repr__(self):\n",
    "        return \"(%d, %d, %d)\" % (self.x, self.y, self.z)\n",
    "        \n",
    "my_point = Point3D(1,2,3)\n",
    "\n",
    "print (my_point)"
   ]
  },
  {
   "cell_type": "code",
   "execution_count": 22,
   "id": "ff4e866f",
   "metadata": {},
   "outputs": [
    {
     "name": "stdout",
     "output_type": "stream",
     "text": [
      "14\n",
      "12\n"
     ]
    }
   ],
   "source": [
    "class Rectangle (object):\n",
    "    \n",
    "    def __init__(self, length, width):\n",
    "        self.length = length\n",
    "        self.width = width\n",
    "        \n",
    "    def perimetre (self):\n",
    "        return 2*(self.length + self.width)\n",
    "        \n",
    "    def surface (self):\n",
    "        return (self.length * self.width)\n",
    "    \n",
    "my_rectangle = Rectangle(3,4)\n",
    "\n",
    "print (my_rectangle.perimetre())\n",
    "print (my_rectangle.surface())"
   ]
  },
  {
   "cell_type": "code",
   "execution_count": 42,
   "id": "b7f3c9d3",
   "metadata": {},
   "outputs": [
    {
     "ename": "NameError",
     "evalue": "name 'circle' is not defined",
     "output_type": "error",
     "traceback": [
      "\u001b[1;31m---------------------------------------------------------------------------\u001b[0m",
      "\u001b[1;31mNameError\u001b[0m                                 Traceback (most recent call last)",
      "\u001b[1;32m~\\AppData\\Local\\Temp/ipykernel_4924/3358366149.py\u001b[0m in \u001b[0;36m<module>\u001b[1;34m\u001b[0m\n\u001b[0;32m     22\u001b[0m             \u001b[0mprint\u001b[0m\u001b[1;33m(\u001b[0m\u001b[1;34m\"le point : (\"\u001b[0m\u001b[1;33m,\u001b[0m\u001b[0mx\u001b[0m\u001b[1;33m,\u001b[0m\u001b[0my\u001b[0m\u001b[1;33m,\u001b[0m\u001b[1;34m\") n'appartient pas au cercle C\"\u001b[0m\u001b[1;33m)\u001b[0m\u001b[1;33m\u001b[0m\u001b[1;33m\u001b[0m\u001b[0m\n\u001b[0;32m     23\u001b[0m \u001b[1;33m\u001b[0m\u001b[0m\n\u001b[1;32m---> 24\u001b[1;33m \u001b[0mmy_circle\u001b[0m \u001b[1;33m=\u001b[0m \u001b[0mcircle\u001b[0m \u001b[1;33m(\u001b[0m\u001b[1;36m1\u001b[0m\u001b[1;33m,\u001b[0m\u001b[1;36m2\u001b[0m\u001b[1;33m,\u001b[0m\u001b[1;36m1\u001b[0m\u001b[1;33m)\u001b[0m\u001b[1;33m\u001b[0m\u001b[1;33m\u001b[0m\u001b[0m\n\u001b[0m\u001b[0;32m     25\u001b[0m \u001b[1;33m\u001b[0m\u001b[0m\n\u001b[0;32m     26\u001b[0m \u001b[0mprint\u001b[0m \u001b[1;33m(\u001b[0m\u001b[0mmy_circle\u001b[0m\u001b[1;33m.\u001b[0m\u001b[0mperimetre\u001b[0m\u001b[1;33m(\u001b[0m\u001b[1;33m)\u001b[0m\u001b[1;33m)\u001b[0m\u001b[1;33m\u001b[0m\u001b[1;33m\u001b[0m\u001b[0m\n",
      "\u001b[1;31mNameError\u001b[0m: name 'circle' is not defined"
     ]
    }
   ],
   "source": [
    "from math import *\n",
    "class Circle (object):\n",
    "    \n",
    "    def __init__(self, a,b,r):\n",
    "        self.a = a\n",
    "        self.b = b\n",
    "        self.r = r\n",
    "        \n",
    "    def perimetre (self):\n",
    "        return 3.14*self.r*2\n",
    "        \n",
    "    def surface (self):\n",
    "        return 3.14*(self.r*self.r)\n",
    "\n",
    "    def formEquation(self,x,y):      \n",
    "        return (x-self.a)**2 + (y-self.b)**2 -self.r**2\n",
    "    \n",
    "    def test_appartenance(self,x,y):\n",
    "        if(self.formEquation(x,y)==0):\n",
    "            print(\"le point : (\",x,y,\") appartient au cercle C\")\n",
    "        else:\n",
    "            print(\"le point : (\",x,y,\") n'appartient pas au cercle C\")\n",
    "            \n",
    "my_circle = circle (1,2,1)\n",
    "\n",
    "print (my_circle.perimetre())\n",
    "print (my_circle.surface())\n",
    "\n",
    "my_circle.test_appartenance(1,1)"
   ]
  },
  {
   "cell_type": "code",
   "execution_count": 74,
   "id": "8da7f869",
   "metadata": {},
   "outputs": [
    {
     "ename": "IndentationError",
     "evalue": "unindent does not match any outer indentation level (<tokenize>, line 18)",
     "output_type": "error",
     "traceback": [
      "\u001b[1;36m  File \u001b[1;32m\"<tokenize>\"\u001b[1;36m, line \u001b[1;32m18\u001b[0m\n\u001b[1;33m    def display (self):\u001b[0m\n\u001b[1;37m    ^\u001b[0m\n\u001b[1;31mIndentationError\u001b[0m\u001b[1;31m:\u001b[0m unindent does not match any outer indentation level\n"
     ]
    }
   ],
   "source": [
    "class Bank (object):\n",
    "    \n",
    "    def __init__(self):\n",
    "        self.solde = 0\n",
    "        \n",
    "    def Deposer (self):\n",
    "        amount=float(input())\n",
    "        self.solde = amount + self.solde\n",
    "        \n",
    "    def Retirer (self):\n",
    "        amount = float(input())\n",
    "        if self.solde>=amount:\n",
    "            self.solde = self.solde - amount\n",
    "            print(amount)\n",
    "        else:\n",
    "            print(\"Solde Insufficient\")\n",
    "    \n",
    "     def display (self):\n",
    "        print(self.solde)\n",
    "    \n",
    "my_bank = Bank()\n",
    "\n",
    "my_bank.Deposer()\n",
    "my_bank.Retirer()\n",
    "my_bank.display()"
   ]
  },
  {
   "cell_type": "code",
   "execution_count": null,
   "id": "92858c1f",
   "metadata": {},
   "outputs": [],
   "source": []
  },
  {
   "cell_type": "code",
   "execution_count": null,
   "id": "454e3903",
   "metadata": {},
   "outputs": [],
   "source": []
  }
 ],
 "metadata": {
  "kernelspec": {
   "display_name": "Python 3 (ipykernel)",
   "language": "python",
   "name": "python3"
  },
  "language_info": {
   "codemirror_mode": {
    "name": "ipython",
    "version": 3
   },
   "file_extension": ".py",
   "mimetype": "text/x-python",
   "name": "python",
   "nbconvert_exporter": "python",
   "pygments_lexer": "ipython3",
   "version": "3.9.7"
  }
 },
 "nbformat": 4,
 "nbformat_minor": 5
}
