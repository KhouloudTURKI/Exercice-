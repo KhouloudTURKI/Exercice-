{
 "cells": [
  {
   "cell_type": "code",
   "execution_count": 1,
   "id": "c4465ecb",
   "metadata": {},
   "outputs": [
    {
     "name": "stdout",
     "output_type": "stream",
     "text": [
      "TURKI Khouloud\n"
     ]
    }
   ],
   "source": [
    "firstname = \"Khouloud\"\n",
    "lastename = \"TURKI\"\n",
    "print (lastename + \" \" + firstname)"
   ]
  },
  {
   "cell_type": "code",
   "execution_count": null,
   "id": "7b96e934",
   "metadata": {},
   "outputs": [],
   "source": [
    "x = int(input(\"Entrez un nombre: \"))\n",
    "    return (x+(x**2)+(x***3))"
   ]
  },
  {
   "cell_type": "code",
   "execution_count": null,
   "id": "0e29e0db",
   "metadata": {},
   "outputs": [],
   "source": [
    "x = int(input(\"Entrez un nombre: \"))\n",
    "if (x % 2) == 0:\n",
    "    print(\"nombre est Paire\".format(x))\n",
    "else:\n",
    "    print(\"nombre est Impaire\".format(x))"
   ]
  },
  {
   "cell_type": "code",
   "execution_count": null,
   "id": "5dd5f477",
   "metadata": {},
   "outputs": [],
   "source": [
    "nbr = int(input('Entrez un nombre : '))\n",
    "fact = 1\n",
    "for i in range(1, nbr+1):\n",
    "    fact = fact * i\n",
    "print (nbr,'! = ',fact)"
   ]
  },
  {
   "cell_type": "code",
   "execution_count": null,
   "id": "82620513",
   "metadata": {},
   "outputs": [],
   "source": [
    "str = \"Hello Team\"\n",
    "str2 =\"\"\n",
    "    for i in range (0, n) :\n",
    "        if (i%2 == 0) :\n",
    "            str2 = str2 + str[i]\n",
    "            else :\n",
    "            str2 = str2.remove[i]\n",
    "print(str2)"
   ]
  },
  {
   "cell_type": "code",
   "execution_count": null,
   "id": "1a021246",
   "metadata": {},
   "outputs": [],
   "source": [
    "list = [x for x in range(2000, 3201) if x % 7 ==0 and x % 5 !=0]\n",
    "print (list)"
   ]
  },
  {
   "cell_type": "code",
   "execution_count": null,
   "id": "441780ef",
   "metadata": {},
   "outputs": [],
   "source": [
    "prix = input(\"Saisir le prix du produit : \")\n",
    " if (prix >= 500) :\n",
    "reduction = 0.5\n",
    "elif (prix <= 500 and prix>= 200):\n",
    "reduction = 0.3\n",
    "elif (prix <= 200):\n",
    "reduction = 0.1"
   ]
  },
  {
   "cell_type": "code",
   "execution_count": null,
   "id": "171cea61",
   "metadata": {},
   "outputs": [],
   "source": []
  }
 ],
 "metadata": {
  "kernelspec": {
   "display_name": "Python 3 (ipykernel)",
   "language": "python",
   "name": "python3"
  },
  "language_info": {
   "codemirror_mode": {
    "name": "ipython",
    "version": 3
   },
   "file_extension": ".py",
   "mimetype": "text/x-python",
   "name": "python",
   "nbconvert_exporter": "python",
   "pygments_lexer": "ipython3",
   "version": "3.9.7"
  }
 },
 "nbformat": 4,
 "nbformat_minor": 5
}
